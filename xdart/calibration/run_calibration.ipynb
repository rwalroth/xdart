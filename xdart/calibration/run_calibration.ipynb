{
 "cells": [
  {
   "cell_type": "markdown",
   "metadata": {
    "toc": true
   },
   "source": [
    "<h1>Table of Contents<span class=\"tocSkip\"></span></h1>\n",
    "<div class=\"toc\"><ul class=\"toc-item\"><li><span><a href=\"#Paths\" data-toc-modified-id=\"Paths-1\"><span class=\"toc-item-num\">1&nbsp;&nbsp;</span>Paths</a></span></li><li><span><a href=\"#Test-if-ready\" data-toc-modified-id=\"Test-if-ready-2\"><span class=\"toc-item-num\">2&nbsp;&nbsp;</span>Test if ready</a></span></li><li><span><a href=\"#Create-SPEC-file-and-set-PD-savepath\" data-toc-modified-id=\"Create-SPEC-file-and-set-PD-savepath-3\"><span class=\"toc-item-num\">3&nbsp;&nbsp;</span>Create SPEC file and set PD savepath</a></span></li><li><span><a href=\"#Run-Direct-Beam-Scan\" data-toc-modified-id=\"Run-Direct-Beam-Scan-4\"><span class=\"toc-item-num\">4&nbsp;&nbsp;</span>Run Direct Beam Scan</a></span></li><li><span><a href=\"#Read-Files-from-Local-Computer\" data-toc-modified-id=\"Read-Files-from-Local-Computer-5\"><span class=\"toc-item-num\">5&nbsp;&nbsp;</span>Read Files from Local Computer</a></span></li><li><span><a href=\"#Get-Images-that-see-direct-beam\" data-toc-modified-id=\"Get-Images-that-see-direct-beam-6\"><span class=\"toc-item-num\">6&nbsp;&nbsp;</span>Get Images that see direct beam</a></span></li><li><span><a href=\"#Create-and-save-PONI-file\" data-toc-modified-id=\"Create-and-save-PONI-file-7\"><span class=\"toc-item-num\">7&nbsp;&nbsp;</span>Create and save PONI file</a></span></li></ul></div>"
   ]
  },
  {
   "cell_type": "code",
   "execution_count": 1,
   "metadata": {
    "ExecuteTime": {
     "end_time": "2020-02-18T19:48:54.084264Z",
     "start_time": "2020-02-18T19:48:50.700618Z"
    }
   },
   "outputs": [],
   "source": [
    "%matplotlib notebook\n",
    "\n",
    "import sys, os, glob, imp, fnmatch, re\n",
    "from copy import deepcopy\n",
    "\n",
    "import matplotlib.pyplot as plt\n",
    "plt.style.use('~/python/mpl_style.txt')\n",
    "\n",
    "import numpy as np\n",
    "import scipy\n",
    "\n",
    "from collections import OrderedDict\n",
    "\n",
    "from ipywidgets import *\n",
    "from IPython.display import display, Image\n",
    "\n",
    "from lmfit import Model, Parameters\n",
    "from lmfit.models import LinearModel, GaussianModel, PseudoVoigtModel\n",
    "\n",
    "from mpl_toolkits.axes_grid1 import make_axes_locatable\n",
    "\n",
    "import pyFAI\n",
    "from pyFAI.multi_geometry import MultiGeometry\n",
    "from silx.io.specfile import SpecFile\n",
    "\n",
    "from joblib import Parallel, delayed\n",
    "import multiprocessing as mp\n",
    "\n",
    "sys.path.append('/Users/v/Research/RDA/repos/xdart/')\n",
    "from xdart.utils import get_from_pdi, query_yes_no, read_image_file, smooth_img, get_fit, fit_images_2D\n",
    "from xdart.pySSRL_bServer.bServer_funcs import specCommand, wait_until_SPECfinished\n",
    "\n",
    "import time"
   ]
  },
  {
   "cell_type": "markdown",
   "metadata": {},
   "source": [
    "## Paths"
   ]
  },
  {
   "cell_type": "code",
   "execution_count": null,
   "metadata": {},
   "outputs": [],
   "source": [
    "remote_path = '~/data/calibration'\n",
    "local_path = 'P:\\\\Data'\n",
    "poni_path = 'P:'"
   ]
  },
  {
   "cell_type": "markdown",
   "metadata": {},
   "source": [
    "## Test if ready"
   ]
  },
  {
   "cell_type": "code",
   "execution_count": 2,
   "metadata": {
    "ExecuteTime": {
     "end_time": "2020-02-18T19:49:15.346093Z",
     "start_time": "2020-02-18T19:49:13.114389Z"
    }
   },
   "outputs": [
    {
     "name": "stdout",
     "output_type": "stream",
     "text": [
      "Are filters in? Can detector take direct beam? [y/N] y\n"
     ]
    }
   ],
   "source": [
    "# Check if detector is ready for direct beam scan\n",
    "\n",
    "ready = query_yes_no('Are filters in? Can detector take direct beam?')\n",
    "\n",
    "if ready != 'yes':\n",
    "    print('Cannot proceed with direct beam scan..')\n",
    "    sys.exit()"
   ]
  },
  {
   "cell_type": "markdown",
   "metadata": {},
   "source": [
    "## Create SPEC file and set PD savepath"
   ]
  },
  {
   "cell_type": "code",
   "execution_count": 4,
   "metadata": {
    "ExecuteTime": {
     "end_time": "2020-02-12T20:37:55.095926Z",
     "start_time": "2020-02-12T20:37:55.089796Z"
    }
   },
   "outputs": [
    {
     "data": {
      "text/plain": [
       "'calib_20200212-123755'"
      ]
     },
     "execution_count": 4,
     "metadata": {},
     "output_type": "execute_result"
    }
   ],
   "source": [
    "# Create new calibration spec file with date time stamp\n",
    "\n",
    "path = remote_path\n",
    "spec_path = path\n",
    "\n",
    "timestr = time.strftime(\"%Y%m%d-%H%M%S\")\n",
    "calibScan = f'calib_{timestr}'\n",
    "\n",
    "print(f'Creating new SPEC file {calibScan} for calibration scan in {spec_path}..')\n",
    "command = f'newfile {spec_path}/{calibScan}'\n",
    "try:\n",
    "    specCommand(command, queue=True)\n",
    "except Exception as e:\n",
    "    print(e)\n",
    "    print(f\"Command '{command}' not sent\")\n",
    "    sys.exit()\n",
    "    \n",
    "# Change PD Savepath\n",
    "img_path = os.path.join(path, 'images')\n",
    "pdi_path = img_path\n",
    "\n",
    "print(f'Changing PD SavePath to {img_path}')\n",
    "command = f'pd savepath {img_path}'\n",
    "try:\n",
    "    specCommand(command, queue=True)\n",
    "except Exception as e:\n",
    "    print(e)\n",
    "    print(f\"Command '{command}' not sent\")\n",
    "    sys.exit()"
   ]
  },
  {
   "cell_type": "markdown",
   "metadata": {},
   "source": [
    "## Run Direct Beam Scan"
   ]
  },
  {
   "cell_type": "code",
   "execution_count": null,
   "metadata": {},
   "outputs": [],
   "source": [
    "# Run Direct Beam Scan\n",
    "\n",
    "command = f'ascan  tth -4 4  400 1'\n",
    "print(f'Running direct beam scan [{command}]')\n",
    "try:\n",
    "    specCommand(command, queue=True)\n",
    "except Exception as e:\n",
    "    print(e)\n",
    "    print(f\"Command '{command}' not sent\")\n",
    "    sys.exit()\n",
    "    \n",
    "# Wait till Scan is finished to continue\n",
    "wait_until_SPECfinished(polling_time=5)\n",
    "time.sleep(5)"
   ]
  },
  {
   "cell_type": "markdown",
   "metadata": {},
   "source": [
    "## Read Files from Local Computer"
   ]
  },
  {
   "cell_type": "code",
   "execution_count": null,
   "metadata": {},
   "outputs": [],
   "source": [
    "# Read Spec File and get Image and PDI File Names\n",
    "\n",
    "path = local_path\n",
    "\n",
    "spec_path = path\n",
    "spec_file = SpecFile( os.path.join(spec_path, {calibScan}) )\n",
    "\n",
    "img_path = os.path.join(path, 'images')\n",
    "pdi_path = img_path\n",
    "\n",
    "img_fnames = sorted(fnmatch.filter(os.listdir(img_path), f'*{calibScan}*.raw'))\n",
    "pdi_fnames = [f'{img_fname}.pdi' for img_fname in img_fnames\n",
    "             if os.path.exists( os.path.join(pdi_path, f'{img_fname}.pdi') )]\n",
    "\n",
    "if len(pdi_fnames) != len(img_fnames):\n",
    "    print('PDI files for all images not present..')"
   ]
  },
  {
   "cell_type": "markdown",
   "metadata": {},
   "source": [
    "## Get Images that see direct beam"
   ]
  },
  {
   "cell_type": "code",
   "execution_count": null,
   "metadata": {},
   "outputs": [],
   "source": [
    "# Get Range of TTh Values that see Direct Beam\n",
    "\n",
    "def get_TTh_w_direct_beam(img_path, img_fnames, pdi_path, pdi_fnames):\n",
    "    img_mean_vals = [ np.mean(read_image_file( os.path.join(img_path, img_fname),\n",
    "                                              return_float=True ))\n",
    "                     for img_fname in img_fnames]\n",
    "    median_mean_vals = np.median( np.asarray(img_mean_vals) )\n",
    "\n",
    "    TThs = OrderedDict()\n",
    "    for (img_fname, pdi_fname) in zip(img_fnames, pdi_fnames):\n",
    "        img = read_image_file( os.path.join(img_path, img_fname), return_float=True )\n",
    "        if np.mean(img) > median_mean_vals/2.:\n",
    "            tth = get_motor_val( os.path.join(pdi_path, pdi_fname), 'TwoTheta' )\n",
    "            TThs[img_fname] = tth\n",
    "\n",
    "\n",
    "    # Limit to TThs that have both positive and negative values\n",
    "    while True:\n",
    "        keys = list(TThs.keys())\n",
    "        tths = np.asarray([tth for k, tth in TThs.items()])\n",
    "\n",
    "        if abs(tths[0]) == abs(tths[-1]):\n",
    "            break\n",
    "\n",
    "        if np.abs(tths[0]) > tths[-1]:\n",
    "            del TThs[keys[0]]\n",
    "        else:\n",
    "            del TThs[keys[-1]]\n",
    "\n",
    "    n0 = len(tths)//2\n",
    "    keys = keys[:20] + keys[n0-20 : n0+20] + keys[-20:]\n",
    "    TThs = OrderedDict({k:TThs[k] for k in keys})\n",
    "    return TThs\n",
    "\n",
    "print('Getting all images that see direct beam')\n",
    "TThs = get_TTh_w_direct_beam(img_path, img_fnames, pdi_path, pdi_fnames)\n",
    "\n",
    "img_fnames = list(TThs.keys())\n",
    "pdi_fnames = [f'{img_fname}.pdi' for img_fname in img_fnames]\n",
    "tths = np.asarray([tth for k, tth in TThs.items()])\n",
    "print(f'TTh range for direct beam: [{tths[0]}, {tths[-1]}]\\n')"
   ]
  },
  {
   "cell_type": "code",
   "execution_count": null,
   "metadata": {},
   "outputs": [],
   "source": [
    "# Fit All Images\n",
    "\n",
    "print('Fitting 2D Gaussian to all images..')\n",
    "Fit_Results, FNames, Img_Fits, Init_Params = dict(), dict(), dict(), dict()\n",
    "\n",
    "n_cores = mp.cpu_count()\n",
    "_ = Parallel(n_jobs=n_cores, require='sharedmem') (\n",
    "    delayed(fit_images_2D)(os.path.join(img_path, fname), tth,\n",
    "                           kernel_size=3, window_size=1,\n",
    "                           Fit_Results=Fit_Results, FNames=FNames, Img_Fits=Img_Fits, Init_Params=Init_Params,\n",
    "                           verbose='True')\n",
    "    for (fname, tth) in zip(img_fnames[::], tths[::]) )\n",
    "\n",
    "Fit_Results = OrderedDict ( { k:Fit_Results[k] for k in sorted(Fit_Results.keys()) } )\n",
    "\n",
    "tths = np.asarray( list(Fit_Results.keys()) )\n",
    "xs = np.asarray( [Fit_Results[tth].params['center_x'] for tth in tths] )\n",
    "ys = np.asarray( [Fit_Results[tth].params['center_y'] for tth in tths] )\n",
    "\n",
    "print('Done \\n')"
   ]
  },
  {
   "cell_type": "code",
   "execution_count": null,
   "metadata": {},
   "outputs": [],
   "source": [
    "# Get direct beam pixel at TTh = 0 degrees\n",
    "\n",
    "# Get direct beam pixel at TTh = 0 degrees\n",
    "\n",
    "def get_db_pixel(tths, xs, ys):\n",
    "    n0 = len(tths)//2\n",
    "    s_ = np.s_[n0-20 : n0+20]\n",
    "\n",
    "    xs, ys, tths = xs[s_], ys[s_], tths[s_]\n",
    "\n",
    "    mod_xs = LinearModel()\n",
    "    params_xs = mod_xs.guess(xs, x=tths)\n",
    "    fit_xs = mod_xs.fit(xs, params=params_xs, x=tths)\n",
    "    fit_xs = mod_xs.fit(xs, params=fit_xs.params, x=tths)\n",
    "\n",
    "    mod_ys = LinearModel()\n",
    "    params_ys = mod_ys.guess(ys, x=tths)\n",
    "    fit_ys = mod_ys.fit(ys, params=params_ys, x=tths)\n",
    "    fit_ys = mod_ys.fit(ys, params=fit_ys.params, x=tths)\n",
    "\n",
    "    x0 = fit_xs.eval(params=fit_xs.params, x=0.0)\n",
    "    y0 = fit_ys.eval(params=fit_ys.params, x=0.0)\n",
    "\n",
    "    return x0, y0\n",
    "\n",
    "print('Obtaining direct beam pixel at TTh=0')\n",
    "x0, y0 = get_db_pixel(tths, xs, ys)\n",
    "print(f'Direct beam pixel at TTh=0: [{x0:.2f}, {y0:.2f}]\\n')"
   ]
  },
  {
   "cell_type": "code",
   "execution_count": null,
   "metadata": {},
   "outputs": [],
   "source": [
    "def get_poni_params(tths, xs, ys, x0, y0, pixel_sz=0.000172):\n",
    "    xs = np.round(xs, 2)\n",
    "    ys = np.round(ys, 2)\n",
    "    \n",
    "    n0 = len(tths)//2; tth0 = tths[n0]\n",
    "\n",
    "    xys = []\n",
    "    ds, Ds, alphas, rot3s, all_tths = [], [], [], [], []\n",
    "    for ii in range(0, n0):\n",
    "        idx1, idx2 = ii, -ii-1\n",
    "        tth1, tth2 = tths[idx1], tths[idx2]\n",
    "        \n",
    "        if abs(tth1) < 3:\n",
    "            continue\n",
    "\n",
    "        if tth1 != -tth2:\n",
    "            print(f'tth1 ({tth1}) != -tth2 ({tth2})')\n",
    "            break\n",
    "            \n",
    "        x1, x2 = xs[idx1], xs[idx2]\n",
    "        y1, y2 = ys[idx1], ys[idx2]\n",
    "\n",
    "        xys.append(np.asarray([x1, y1, x2, y2]))\n",
    "\n",
    "        d1 = np.sqrt( (x1 - x0)**2 + (y1 - y0)**2 ) * pixel_sz\n",
    "        d2 = np.sqrt( (x2 - x0)**2 + (y2 - y0)**2 ) * pixel_sz\n",
    "\n",
    "        ds.append(np.asarray([d1, d2]))\n",
    "\n",
    "        tth = np.deg2rad (abs(tth1))\n",
    "\n",
    "        D = 2 * d1 * d2 * (d1 + d2) * np.tan(tth) / (\n",
    "            (d1 + d2)**2 * np.tan(tth)**2  + (d1 - d2)**2 )\n",
    "\n",
    "        alpha = - np.arctan( 1/np.tan(tth) * (d1 - d2) / (d1 + d2) )\n",
    "        rot3 = - (x1 - x2) / (y1 - y2)\n",
    "\n",
    "        Ds.append(D)\n",
    "        alphas.append(alpha)\n",
    "        rot3s.append(rot3)\n",
    "        all_tths.append( np.rad2deg(tth) )\n",
    "\n",
    "    ds = np.asarray(ds); xys = np.asarray(xys)\n",
    "    d1, d2 = ds[:,0], ds[:,1] \n",
    "\n",
    "    fig, axs = plt.subplots(ncols=4, figsize=(12,4))\n",
    "    axs[0].plot(all_tths, d1-d2)\n",
    "    axs[0].set_title('d1 - d2')\n",
    "\n",
    "    axs[1].plot(all_tths, Ds[:])\n",
    "    axs[1].set_title('D')\n",
    "\n",
    "    axs[2].plot(all_tths, np.rad2deg(alphas[:]))\n",
    "    axs[2].set_title('alphas')\n",
    "\n",
    "    axs[3].plot(all_tths, np.rad2deg(rot3s[:]))\n",
    "    axs[3].set_title('rot3')\n",
    "    fig.tight_layout()\n",
    "\n",
    "    D = np.mean(Ds[:-1])\n",
    "    rot2 = np.mean(alphas[:-1])\n",
    "    rot3 = np.mean(rot3s[:-1])\n",
    "\n",
    "    poni1 = y0 * pixel_sz - D*np.tan(rot2)*np.cos(rot3)\n",
    "    poni2 = x0 * pixel_sz + D*np.tan(rot2)*np.sin(rot3)\n",
    "    #poni1 = (485-y0) * pixel_sz + D*np.tan(rot2)*np.cos(rot3)# + 0.005\n",
    "\n",
    "    print(D, rot2, rot3, poni1, poni2)\n",
    "    return D, rot2, rot3, poni1, poni2\n",
    " \n",
    "D, rot2, rot3, poni1, poni2 = get_poni_params(tths, xs, ys, x0, y0, pixel_sz=0.000172)"
   ]
  },
  {
   "cell_type": "markdown",
   "metadata": {},
   "source": [
    "## Create and save PONI file"
   ]
  },
  {
   "cell_type": "code",
   "execution_count": null,
   "metadata": {},
   "outputs": [],
   "source": [
    "def make_poni(poni_file, spec_file, params, detector=\"Pilatus100k\"):\n",
    "    energy = spec_file.motor_position_by_name(0, 'Monochrom')\n",
    "    wavelength = 12398/energy * 1e-10\n",
    "    print(f'Energy: {energy}, Wavelength: {wavelength}')\n",
    "\n",
    "    poni_params = dict(\n",
    "        detector = detector,\n",
    "        wavelength = wavelength,\n",
    "        **params\n",
    "    )\n",
    "\n",
    "    ai = pyFAI.azimuthalIntegrator.AzimuthalIntegrator(**poni_params)\n",
    "    ai.save(os.path.join(poni_path, f'{calibScan}.poni'))\n",
    "    print(ai)\n",
    "    \n",
    "    \n",
    "poni_file = os.path.join(poni_path, f'{calibScan}.poni')\n",
    "print(f'Making and saving {poni_file}')\n",
    "make_poni(poni_file, spec_file, poni_params, detector=detector)"
   ]
  }
 ],
 "metadata": {
  "kernelspec": {
   "display_name": "Python [conda env:py37] *",
   "language": "python",
   "name": "conda-env-py37-py"
  },
  "language_info": {
   "codemirror_mode": {
    "name": "ipython",
    "version": 3
   },
   "file_extension": ".py",
   "mimetype": "text/x-python",
   "name": "python",
   "nbconvert_exporter": "python",
   "pygments_lexer": "ipython3",
   "version": "3.7.6"
  },
  "toc": {
   "base_numbering": 1,
   "nav_menu": {},
   "number_sections": true,
   "sideBar": true,
   "skip_h1_title": false,
   "title_cell": "Table of Contents",
   "title_sidebar": "Contents",
   "toc_cell": true,
   "toc_position": {},
   "toc_section_display": true,
   "toc_window_display": false
  }
 },
 "nbformat": 4,
 "nbformat_minor": 4
}
