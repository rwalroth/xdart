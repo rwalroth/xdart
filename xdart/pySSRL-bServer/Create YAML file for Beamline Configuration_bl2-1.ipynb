{
 "cells": [
  {
   "cell_type": "markdown",
   "metadata": {
    "toc": true
   },
   "source": [
    "<h1>Table of Contents<span class=\"tocSkip\"></span></h1>\n",
    "<div class=\"toc\"><ul class=\"toc-item\"></ul></div>"
   ]
  },
  {
   "cell_type": "code",
   "execution_count": 1,
   "metadata": {},
   "outputs": [],
   "source": [
    "import yaml"
   ]
  },
  {
   "cell_type": "markdown",
   "metadata": {},
   "source": [
    "This Notebook defines the format and creates the YAML necessary for connecting and defining a particular beamline in the pySSRL bServer. The data entry shows the expected configuration"
   ]
  },
  {
   "cell_type": "code",
   "execution_count": 20,
   "metadata": {},
   "outputs": [],
   "source": [
    "data = {\n",
    "        #Default values for any property not listed\n",
    "        'beamline_name': { #Note: you can/should make special beamline name enteries for different configurations of the beamline. E.g, different detector configs or non-standard configurations\n",
    "                                'mnemonic': 'bl1-5',\n",
    "                                'interface': 'SPEC Infoserver', \n",
    "                                'TCP_IP': \"192.168.0.2\",\n",
    "                                'TCP_PORT': 2033,\n",
    "                                'map_to_top_level': True, #all functions get mapped to /... in addition to the usual /bl_mnumenonic/... This should be true for the main SPEC systems at each beam line (that way )\n",
    "                                'description': \"Description of the beamline, e.g. BL1-5 SPEC Infoserver connection\",\n",
    "                                'detailed_description': \"Something more if needed. This is not actually read by the user\",\n",
    "                                'base_path_to_logfile': \"/\",\n",
    "                                'detector_config': [\n",
    "                                    {'name': 'bl15_mar',\n",
    "                                    'mnemonic': 'mar',\n",
    "                                    'data_path_base': \"/\",\n",
    "                                    'get_function': None,\n",
    "                                    'trigger_function': None,\n",
    "                                    'config_function': None,\n",
    "                                    },\n",
    "                                ],\n",
    "                                'shutter_open': None,\n",
    "                                'shutter_close': None,\n",
    "                                'diagnostic': None,\n",
    "                                'autoalign': None,\n",
    "                   },\n",
    "    \n",
    "        \n",
    "        \n",
    "       }"
   ]
  },
  {
   "cell_type": "code",
   "execution_count": 7,
   "metadata": {},
   "outputs": [],
   "source": [
    "# Use IP address \n",
    "data = {\n",
    "        #Default values for any property not listed\n",
    "        'bl2-1_testConfig': { #Note: you can/should make special beamline name enteries for different configurations of the beamline. E.g, different detector configs or non-standard configurations\n",
    "                                'mnemonic': 'b2-1',\n",
    "                                'interface': 'SPEC Infoserver', \n",
    "                                'TCP_IP': \"134.79.38.68\",\n",
    "                                'TCP_PORT': 2034,\n",
    "                                'map_to_top_level': True, #all functions get mapped to /... in addition to the usual /bl_mnumenonic/... This should be true for the main SPEC systems at each beam line (that way )\n",
    "                                'description': \"Description of the beamline, e.g. BL2-1 SPEC Infoserver connection\",\n",
    "                                'detailed_description': \"Something more if needed. This is not actually read by the user\",\n",
    "                                'server_base_path_to_logfile': \"/\",\n",
    "                                'detector_config': [\n",
    "                                    {'name': 'bl15_mar',\n",
    "                                    'mnemonic': 'mar',\n",
    "                                    'data_path_base': \"/\",\n",
    "                                    'get_function': None,\n",
    "                                    'trigger_function': None,\n",
    "                                    'config_function': None,\n",
    "                                    },\n",
    "                                ],\n",
    "                                'shutter_open': None,\n",
    "                                'shutter_close': None,\n",
    "                                'diagnostic': None,\n",
    "                                'autoalign': None,\n",
    "               },\n",
    "        \n",
    "        \n",
    "       }"
   ]
  },
  {
   "cell_type": "code",
   "execution_count": null,
   "metadata": {},
   "outputs": [],
   "source": []
  },
  {
   "cell_type": "code",
   "execution_count": 8,
   "metadata": {},
   "outputs": [
    {
     "name": "stdout",
     "output_type": "stream",
     "text": [
      "bl2-1_testConfig:\n",
      "  TCP_IP: 134.79.38.68\n",
      "  TCP_PORT: 2034\n",
      "  autoalign: null\n",
      "  description: Description of the beamline, e.g. BL2-1 SPEC Infoserver connection\n",
      "  detailed_description: Something more if needed. This is not actually read by the\n",
      "    user\n",
      "  detector_config:\n",
      "  - config_function: null\n",
      "    data_path_base: /\n",
      "    get_function: null\n",
      "    mnemonic: mar\n",
      "    name: bl15_mar\n",
      "    trigger_function: null\n",
      "  diagnostic: null\n",
      "  interface: SPEC Infoserver\n",
      "  map_to_top_level: true\n",
      "  mnemonic: b2-1\n",
      "  server_base_path_to_logfile: /\n",
      "  shutter_close: null\n",
      "  shutter_open: null\n",
      "\n"
     ]
    }
   ],
   "source": [
    "with open('./config/beamline_catalogue.yml', 'w') as stream:\n",
    "    yaml.dump(data, stream)    # Write a YAML representation of data to 'document.yaml'.\n",
    "    print(yaml.dump(data))"
   ]
  },
  {
   "cell_type": "code",
   "execution_count": null,
   "metadata": {},
   "outputs": [],
   "source": []
  }
 ],
 "metadata": {
  "kernelspec": {
   "display_name": "Python 3",
   "language": "python",
   "name": "python3"
  },
  "language_info": {
   "codemirror_mode": {
    "name": "ipython",
    "version": 3
   },
   "file_extension": ".py",
   "mimetype": "text/x-python",
   "name": "python",
   "nbconvert_exporter": "python",
   "pygments_lexer": "ipython3",
   "version": "3.7.5"
  },
  "toc": {
   "base_numbering": 1,
   "nav_menu": {},
   "number_sections": true,
   "sideBar": true,
   "skip_h1_title": true,
   "title_cell": "Table of Contents",
   "title_sidebar": "Contents",
   "toc_cell": true,
   "toc_position": {},
   "toc_section_display": true,
   "toc_window_display": false
  }
 },
 "nbformat": 4,
 "nbformat_minor": 2
}
