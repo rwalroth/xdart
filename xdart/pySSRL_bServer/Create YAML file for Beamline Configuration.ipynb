{
 "cells": [
  {
   "cell_type": "code",
   "execution_count": 16,
   "metadata": {},
   "outputs": [],
   "source": [
    "import yaml"
   ]
  },
  {
   "cell_type": "markdown",
   "metadata": {},
   "source": [
    "This Notebook defines the format and creates the YAML necessary for connecting and defining a particular beamline in the pySSRL bServer. The data entry shows the expected configuration"
   ]
  },
  {
   "cell_type": "code",
   "execution_count": 20,
   "metadata": {},
   "outputs": [],
   "source": [
    "data = {\n",
    "        #Default values for any property not listed\n",
    "        'beamline_name': { #Note: you can/should make special beamline name enteries for different configurations of the beamline. E.g, different detector configs or non-standard configurations\n",
    "                                'mnemonic': 'bl1-5',\n",
    "                                'interface': 'SPEC Infoserver', \n",
    "                                'TCP_IP': \"192.168.0.2\",\n",
    "                                'TCP_PORT': 2033,\n",
    "                                'map_to_top_level': True, #all functions get mapped to /... in addition to the usual /bl_mnumenonic/... This should be true for the main SPEC systems at each beam line (that way )\n",
    "                                'description': \"Description of the beamline, e.g. BL1-5 SPEC Infoserver connection\",\n",
    "                                'detailed_description': \"Something more if needed. This is not actually read by the user\",\n",
    "                                'base_path_to_logfile': \"/\",\n",
    "                                'detector_config': [\n",
    "                                    {'name': 'bl15_mar',\n",
    "                                    'mnemonic': 'mar',\n",
    "                                    'data_path_base': \"/\",\n",
    "                                    'get_function': None,\n",
    "                                    'trigger_function': None,\n",
    "                                    'config_function': None,\n",
    "                                    },\n",
    "                                ],\n",
    "                                'shutter_open': None,\n",
    "                                'shutter_close': None,\n",
    "                                'diagnostic': None,\n",
    "                                'autoalign': None,\n",
    "                   },\n",
    "    \n",
    "        \n",
    "        \n",
    "       }"
   ]
  },
  {
   "cell_type": "code",
   "execution_count": 21,
   "metadata": {},
   "outputs": [],
   "source": [
    "data = {\n",
    "        #Default values for any property not listed\n",
    "        'bl1-5_testConfig': { #Note: you can/should make special beamline name enteries for different configurations of the beamline. E.g, different detector configs or non-standard configurations\n",
    "                                'mnemonic': 'bl1-5',\n",
    "                                'interface': 'SPEC Infoserver', \n",
    "                                'TCP_IP': \"192.0.2.2\",\n",
    "                                'TCP_PORT': 2033,\n",
    "                                'map_to_top_level': True, #all functions get mapped to /... in addition to the usual /bl_mnumenonic/... This should be true for the main SPEC systems at each beam line (that way )\n",
    "                                'description': \"Description of the beamline, e.g. BL1-5 SPEC Infoserver connection\",\n",
    "                                'detailed_description': \"Something more if needed. This is not actually read by the user\",\n",
    "                                'server_base_path_to_logfile': \"/\",\n",
    "                                'detector_config': [\n",
    "                                    {'name': 'bl15_mar',\n",
    "                                    'mnemonic': 'mar',\n",
    "                                    'data_path_base': \"/\",\n",
    "                                    'get_function': None,\n",
    "                                    'trigger_function': None,\n",
    "                                    'config_function': None,\n",
    "                                    },\n",
    "                                ],\n",
    "                                'shutter_open': None,\n",
    "                                'shutter_close': None,\n",
    "                                'diagnostic': None,\n",
    "                                'autoalign': None,\n",
    "               },\n",
    "        \n",
    "        \n",
    "       }"
   ]
  },
  {
   "cell_type": "code",
   "execution_count": null,
   "metadata": {},
   "outputs": [],
   "source": []
  },
  {
   "cell_type": "code",
   "execution_count": 22,
   "metadata": {},
   "outputs": [
    {
     "name": "stdout",
     "output_type": "stream",
     "text": [
      "bl1-5_testConfig:\n",
      "  TCP_IP: 192.0.2.2\n",
      "  TCP_PORT: 2033\n",
      "  autoalign: null\n",
      "  description: Description of the beamline, e.g. BL1-5 SPEC Infoserver connection\n",
      "  detailed_description: Something more if needed. This is not actually read by the\n",
      "    user\n",
      "  detector_config:\n",
      "  - {config_function: null, data_path_base: /, get_function: null, mnemonic: mar,\n",
      "    name: bl15_mar, trigger_function: null}\n",
      "  diagnostic: null\n",
      "  interface: SPEC Infoserver\n",
      "  map_to_top_level: true\n",
      "  mnemonic: bl1-5\n",
      "  server_base_path_to_logfile: /\n",
      "  shutter_close: null\n",
      "  shutter_open: null\n",
      "\n"
     ]
    }
   ],
   "source": [
    "with open('./config/beamline_catalogue.yml', 'w') as stream:\n",
    "    yaml.dump(data, stream)    # Write a YAML representation of data to 'document.yaml'.\n",
    "    print(yaml.dump(data))"
   ]
  },
  {
   "cell_type": "code",
   "execution_count": null,
   "metadata": {},
   "outputs": [],
   "source": []
  }
 ],
 "metadata": {
  "kernelspec": {
   "display_name": "Python 3",
   "language": "python",
   "name": "python3"
  },
  "language_info": {
   "codemirror_mode": {
    "name": "ipython",
    "version": 3
   },
   "file_extension": ".py",
   "mimetype": "text/x-python",
   "name": "python",
   "nbconvert_exporter": "python",
   "pygments_lexer": "ipython3",
   "version": "3.7.4"
  }
 },
 "nbformat": 4,
 "nbformat_minor": 2
}
