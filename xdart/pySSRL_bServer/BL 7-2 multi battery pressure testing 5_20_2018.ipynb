{
 "cells": [
  {
   "cell_type": "markdown",
   "metadata": {
    "toc": true
   },
   "source": [
    "<h1>Table of Contents<span class=\"tocSkip\"></span></h1>\n",
    "<div class=\"toc\"><ul class=\"toc-item\"><li><span><a href=\"#Lets-do-some-real-work....-starting-with-the-parameters-defining-the-run.\" data-toc-modified-id=\"Lets-do-some-real-work....-starting-with-the-parameters-defining-the-run.-1\"><span class=\"toc-item-num\">1&nbsp;&nbsp;</span>Lets do some real work.... starting with the parameters defining the run.</a></span><ul class=\"toc-item\"><li><span><a href=\"#Ok.-Lets-do-the-actual-scanning\" data-toc-modified-id=\"Ok.-Lets-do-the-actual-scanning-1.1\"><span class=\"toc-item-num\">1.1&nbsp;&nbsp;</span>Ok. Lets do the actual scanning</a></span></li></ul></li></ul></div>"
   ]
  },
  {
   "cell_type": "code",
   "execution_count": 1,
   "metadata": {},
   "outputs": [],
   "source": [
    "import requests\n",
    "import time\n",
    "import numpy as np\n",
    "import uuid\n",
    "import shutil\n",
    "import yaml"
   ]
  },
  {
   "cell_type": "markdown",
   "metadata": {},
   "source": [
    "Define some useful functions and the addresses of the bServer and mServer globally"
   ]
  },
  {
   "cell_type": "code",
   "execution_count": 2,
   "metadata": {},
   "outputs": [],
   "source": [
    "bServer = \"http://127.0.0.1:18085/SIS/\"\n",
    "mServer = \"http://127.0.0.1:18080\""
   ]
  },
  {
   "cell_type": "code",
   "execution_count": 44,
   "metadata": {},
   "outputs": [],
   "source": [
    "def create_UUID():\n",
    "    \"\"\"UUIDs will be unique for a given run of the kernel\"\"\"\n",
    "    unique_uuid = uuid.uuid4().hex[:8].upper()\n",
    "    return unique_uuid\n",
    "\n",
    "\n",
    "def create_SPECnewfile(new_name):\n",
    "    t0=time.time()\n",
    "    \n",
    "    wait_until_SPECfinished()\n",
    "    \n",
    "    payload = {'spec_cmd': 'newfile {}'.format(new_name)}\n",
    "    \n",
    "    r = requests.get(bServer + \"execute_command\", params=payload)\n",
    "    #print(r)\n",
    "    #print(\"Response: \", r.json()['data'])\n",
    "    \n",
    "    wait_until_SPECfinished()\n",
    "\n",
    "    time_spent = time.time() - t0\n",
    "    return time_spent\n",
    "\n",
    "def cam_refresh():\n",
    "    t0=time.time()\n",
    "    \n",
    "    wait_until_SPECfinished()\n",
    "    \n",
    "    payload = {'spec_cmd': 'camrefresh'}\n",
    "    \n",
    "    r = requests.get(bServer + \"execute_command\", params=payload)\n",
    "    #print(r)\n",
    "    #print(\"Response: \", r.json()['data'])\n",
    "    \n",
    "    time.sleep(45)\n",
    "    wait_until_SPECfinished()\n",
    "\n",
    "    time_spent = time.time() - t0\n",
    "    return time_spent\n",
    "\n",
    "\n",
    "def take_pilatus_image(exp_time, move_image_to=None):\n",
    "    wait_until_SPECfinished()\n",
    "    \n",
    "    \n",
    "    payload = {'spec_cmd': 'loopscan 1 {}'.format(exp_time)}\n",
    "    r = requests.get(bServer + \"execute_command\", params=payload)\n",
    "    \n",
    "    wait_until_SPECfinished()\n",
    "\n",
    "    counters = read_counters()\n",
    "    \n",
    "    image_savedpath = None\n",
    "    if move_image_to is not None:\n",
    "        pass\n",
    "        \n",
    "    \n",
    "    return counters\n",
    "\n",
    "def move_SPECmotor(motor_name, value, wait_until_finished = True):\n",
    "    t0=time.time()\n",
    "    payload = {'spec_cmd': 'mv {} {}'.format(motor_name, value)}\n",
    "    \n",
    "    r = requests.get(bServer + \"execute_command\", params=payload)\n",
    "    #print(r)\n",
    "    #print(\"Response: \", r.json()['data'])\n",
    "    \n",
    "    if wait_until_finished is True:\n",
    "        wait_until_SPECfinished()\n",
    "\n",
    "    time_spent = time.time() - t0\n",
    "    return time_spent\n",
    "\n",
    "def set_SPECshutter(shutterOpen):\n",
    "    t0=time.time()\n",
    "    if shutterOpen is True:\n",
    "        payload = {'spec_cmd': 'sopen'}\n",
    "    else:\n",
    "        payload = {'spec_cmd': 'sclose'}\n",
    "    \n",
    "    r = requests.get(bServer + \"execute_command\", params=payload)\n",
    "    #print(r)\n",
    "    #print(\"Response: \", r.json()['data'])\n",
    "    \n",
    "    time.sleep(0.1)\n",
    "    \n",
    "    time_spent = time.time() - t0\n",
    "    return time_spent\n",
    "\n",
    "def wait_until_SPECfinished():\n",
    "    t0 = time.time()\n",
    "    while True:\n",
    "        r = requests.get(bServer + \"is_busy\")\n",
    "        is_busy = r.json()['data']\n",
    "            \n",
    "        if is_busy is False:\n",
    "            break\n",
    "    return time.time() - t0\n",
    "\n",
    "def read_counters(save_to_file=None):\n",
    "    t0 = time.time()\n",
    "    \n",
    "    #Get the mnemonics - a little wasteful but that is ok I think right now.\n",
    "    r = requests.get(bServer + \"get_all_counter_mnemonics\", params={})\n",
    "    counter_mnemonics = r.json()['data']\n",
    "\n",
    "    wait_until_SPECfinished()\n",
    "    \n",
    "    \n",
    "    r = requests.get(bServer + \"get_all_counters\", params={})\n",
    "    counter_values = r.json()['data']\n",
    "   \n",
    "    time_spent = time.time() - t0\n",
    "    \n",
    "    return dict(zip(counter_mnemonics, counter_values))\n",
    "\n",
    "\n",
    "def move_to_ROSSindex(ross_index):\n",
    "    r = requests.post(\"http://127.0.0.1:18080/combined_move/move_to_index/{}\".format(ross_index))\n",
    "    #print(r)\n",
    "    #print(r.json())"
   ]
  },
  {
   "cell_type": "code",
   "execution_count": 78,
   "metadata": {},
   "outputs": [
    {
     "name": "stdout",
     "output_type": "stream",
     "text": [
      "{'sec': 0.2, 'mon': 0.0004, 'det': 0.0, 'dead': 0.0, 'i1': 9e-05, 'i2': 0.00192, 'i3': 0.0, 'i4': 0.0, 'normlz': 0.0, 'fstat': 0.0, 'TEMP': 0.0, 'pd1': -4.0, 'pd2': 0.0, 'pd3': 0.0, 'pd4': 0.0, 'pd5': 0.0, 'pd6': 0.0, 'pd7': 0.0, 'pd8': 0.0, 'pd9': 0.0, 'pd10': 0.0, 'pd11': 0.0, 'pd12': 0.0, 'pd13': 0.0, 'pd14': 0.0, 'pd15': 0.0, 'pd16': 0.0, 'ICR': 0.0, 'OCR': 0.0, 'ROI1': 0.0, 'ROI2': 0.0, 'ROI3': 0.0, 'ROI4': 0.0, 'keith_I': 0.0, 'keith_V': 0.0, 'CTEMP': 0.0, 'timesec': 0.0, 'tempsec': 0.0, 'PD_MIN': 0.0, 'PD_MAX': 0.0, 'A34410': 0.0, 'agdaq1': 0.0, 'agdaq2': 0.0, 'agdaq3': 0.0, 'agdaq4': 0.0, 'CTEMPB': 0.0}\n"
     ]
    }
   ],
   "source": [
    "g = read_counters()\n",
    "print(g)"
   ]
  },
  {
   "cell_type": "code",
   "execution_count": 16,
   "metadata": {},
   "outputs": [
    {
     "data": {
      "text/plain": [
       "45.07417416572571"
      ]
     },
     "execution_count": 16,
     "metadata": {},
     "output_type": "execute_result"
    }
   ],
   "source": [
    "cam_refresh()"
   ]
  },
  {
   "cell_type": "code",
   "execution_count": 23,
   "metadata": {},
   "outputs": [
    {
     "data": {
      "text/plain": [
       "0.28101372718811035"
      ]
     },
     "execution_count": 23,
     "metadata": {},
     "output_type": "execute_result"
    }
   ],
   "source": [
    "move_SPECmotor('spr3', 51.1)"
   ]
  },
  {
   "cell_type": "markdown",
   "metadata": {},
   "source": [
    "# Lets do some real work.... starting with the parameters defining the run."
   ]
  },
  {
   "cell_type": "markdown",
   "metadata": {},
   "source": [
    "Define the run name"
   ]
  },
  {
   "cell_type": "code",
   "execution_count": 79,
   "metadata": {},
   "outputs": [],
   "source": [
    "scan_base_name = 'TESTforRossinsitu_C5andC2_1'\n",
    "path_to_detector = \"\"\n",
    "path_to_saved_data = \"\"\n",
    "\n",
    "do_cam_refresh = True"
   ]
  },
  {
   "cell_type": "markdown",
   "metadata": {},
   "source": [
    "Define the sample locations"
   ]
  },
  {
   "cell_type": "code",
   "execution_count": 74,
   "metadata": {},
   "outputs": [],
   "source": [
    "sample_motors = {'x': 'spr2', 'y': 'spr3'}\n",
    "\n",
    "sample_ROSSindex = {'QR1': \"1\", 'QR3': \"0\", 'air': \"2\"}\n",
    "sample_global_offsets = {'QR1': {'x':47, 'y':50}, 'QR3': {'x':47, 'y':51}, 'air': {'x':49, 'y':52}}\n",
    "\n",
    "\n",
    "exposure_time = 0.2\n",
    "cam_refresh_freq = 5 #Number of scans before calling a cam refresh"
   ]
  },
  {
   "cell_type": "markdown",
   "metadata": {},
   "source": [
    "Generate the positions to scan for each sample"
   ]
  },
  {
   "cell_type": "code",
   "execution_count": 69,
   "metadata": {},
   "outputs": [
    {
     "name": "stdout",
     "output_type": "stream",
     "text": [
      "[{'QR1': [{'x': 47.0, 'y': 50.0}, {'x': 47.0, 'y': 51.25}, {'x': 47.0, 'y': 52.5}, {'x': 47.0, 'y': 53.75}, {'x': 47.0, 'y': 55.0}, {'x': 48.25, 'y': 50.0}, {'x': 48.25, 'y': 51.25}, {'x': 48.25, 'y': 52.5}, {'x': 48.25, 'y': 53.75}, {'x': 48.25, 'y': 55.0}, {'x': 49.5, 'y': 50.0}, {'x': 49.5, 'y': 51.25}, {'x': 49.5, 'y': 52.5}, {'x': 49.5, 'y': 53.75}, {'x': 49.5, 'y': 55.0}, {'x': 50.75, 'y': 50.0}, {'x': 50.75, 'y': 51.25}, {'x': 50.75, 'y': 52.5}, {'x': 50.75, 'y': 53.75}, {'x': 50.75, 'y': 55.0}, {'x': 52.0, 'y': 50.0}, {'x': 52.0, 'y': 51.25}, {'x': 52.0, 'y': 52.5}, {'x': 52.0, 'y': 53.75}, {'x': 52.0, 'y': 55.0}]}, {'QR3': [{'x': 47.0, 'y': 51.0}, {'x': 47.0, 'y': 52.25}, {'x': 47.0, 'y': 53.5}, {'x': 47.0, 'y': 54.75}, {'x': 47.0, 'y': 56.0}, {'x': 48.25, 'y': 51.0}, {'x': 48.25, 'y': 52.25}, {'x': 48.25, 'y': 53.5}, {'x': 48.25, 'y': 54.75}, {'x': 48.25, 'y': 56.0}, {'x': 49.5, 'y': 51.0}, {'x': 49.5, 'y': 52.25}, {'x': 49.5, 'y': 53.5}, {'x': 49.5, 'y': 54.75}, {'x': 49.5, 'y': 56.0}, {'x': 50.75, 'y': 51.0}, {'x': 50.75, 'y': 52.25}, {'x': 50.75, 'y': 53.5}, {'x': 50.75, 'y': 54.75}, {'x': 50.75, 'y': 56.0}, {'x': 52.0, 'y': 51.0}, {'x': 52.0, 'y': 52.25}, {'x': 52.0, 'y': 53.5}, {'x': 52.0, 'y': 54.75}, {'x': 52.0, 'y': 56.0}]}, {'air': [{'x': 49, 'y': 52}]}]\n"
     ]
    }
   ],
   "source": [
    "sample_positions = {'QR1': [], 'QR3': [], 'air': []}\n",
    "\n",
    "\n",
    "for rel_x_pos in np.linspace(0, 5, 5):\n",
    "    for rel_y_pos in np.linspace(0, 5, 5):\n",
    "        sample_positions['QR1'].append({'x': rel_x_pos + sample_global_offsets['QR1']['x'], 'y': rel_y_pos + sample_global_offsets['QR1']['y']})\n",
    "        sample_positions['QR3'].append({'x': rel_x_pos + sample_global_offsets['QR3']['x'], 'y': rel_y_pos + + sample_global_offsets['QR3']['y']})\n",
    "        \n",
    "sample_positions['air'].append({'x': 0 + sample_global_offsets['air']['x'], 'y': 0 + sample_global_offsets['air']['y']})\n",
    "\n",
    "\n",
    "#Rebuild the sample_scan_list. This is a bit more flexible way of constructing scans (e.g., you can interleave the samples or scan over positions in the sample... up to you)\n",
    "\n",
    "sample_scan_list = []\n",
    "sample_scan_list.append( {'QR1': sample_positions['QR1']})\n",
    "sample_scan_list.append( {'QR3': sample_positions['QR3']})\n",
    "sample_scan_list.append( {'air': sample_positions['air']})\n",
    "\n",
    "print(sample_scan_list)"
   ]
  },
  {
   "cell_type": "markdown",
   "metadata": {},
   "source": [
    "Here we interleave some of the measurements between the two batteries to improve time resolution."
   ]
  },
  {
   "cell_type": "code",
   "execution_count": 80,
   "metadata": {},
   "outputs": [
    {
     "name": "stdout",
     "output_type": "stream",
     "text": [
      "[{'QR1': [{'x': 47.0, 'y': 50.0}, {'x': 47.0, 'y': 50.55555555555556}, {'x': 47.0, 'y': 51.111111111111114}, {'x': 47.0, 'y': 51.666666666666664}, {'x': 47.0, 'y': 52.22222222222222}, {'x': 47.0, 'y': 52.77777777777778}, {'x': 47.0, 'y': 53.333333333333336}, {'x': 47.0, 'y': 53.888888888888886}, {'x': 47.0, 'y': 54.44444444444444}, {'x': 47.0, 'y': 55.0}]}, {'QR3': [{'x': 47.0, 'y': 51.0}, {'x': 47.0, 'y': 51.55555555555556}, {'x': 47.0, 'y': 52.111111111111114}, {'x': 47.0, 'y': 52.666666666666664}, {'x': 47.0, 'y': 53.22222222222222}, {'x': 47.0, 'y': 53.77777777777778}, {'x': 47.0, 'y': 54.333333333333336}, {'x': 47.0, 'y': 54.888888888888886}, {'x': 47.0, 'y': 55.44444444444444}, {'x': 47.0, 'y': 56.0}]}, {'QR1': [{'x': 48.25, 'y': 50.0}, {'x': 48.25, 'y': 50.55555555555556}, {'x': 48.25, 'y': 51.111111111111114}, {'x': 48.25, 'y': 51.666666666666664}, {'x': 48.25, 'y': 52.22222222222222}, {'x': 48.25, 'y': 52.77777777777778}, {'x': 48.25, 'y': 53.333333333333336}, {'x': 48.25, 'y': 53.888888888888886}, {'x': 48.25, 'y': 54.44444444444444}, {'x': 48.25, 'y': 55.0}]}, {'QR3': [{'x': 48.25, 'y': 51.0}, {'x': 48.25, 'y': 51.55555555555556}, {'x': 48.25, 'y': 52.111111111111114}, {'x': 48.25, 'y': 52.666666666666664}, {'x': 48.25, 'y': 53.22222222222222}, {'x': 48.25, 'y': 53.77777777777778}, {'x': 48.25, 'y': 54.333333333333336}, {'x': 48.25, 'y': 54.888888888888886}, {'x': 48.25, 'y': 55.44444444444444}, {'x': 48.25, 'y': 56.0}]}, {'QR1': [{'x': 49.5, 'y': 50.0}, {'x': 49.5, 'y': 50.55555555555556}, {'x': 49.5, 'y': 51.111111111111114}, {'x': 49.5, 'y': 51.666666666666664}, {'x': 49.5, 'y': 52.22222222222222}, {'x': 49.5, 'y': 52.77777777777778}, {'x': 49.5, 'y': 53.333333333333336}, {'x': 49.5, 'y': 53.888888888888886}, {'x': 49.5, 'y': 54.44444444444444}, {'x': 49.5, 'y': 55.0}]}, {'QR3': [{'x': 49.5, 'y': 51.0}, {'x': 49.5, 'y': 51.55555555555556}, {'x': 49.5, 'y': 52.111111111111114}, {'x': 49.5, 'y': 52.666666666666664}, {'x': 49.5, 'y': 53.22222222222222}, {'x': 49.5, 'y': 53.77777777777778}, {'x': 49.5, 'y': 54.333333333333336}, {'x': 49.5, 'y': 54.888888888888886}, {'x': 49.5, 'y': 55.44444444444444}, {'x': 49.5, 'y': 56.0}]}, {'QR1': [{'x': 50.75, 'y': 50.0}, {'x': 50.75, 'y': 50.55555555555556}, {'x': 50.75, 'y': 51.111111111111114}, {'x': 50.75, 'y': 51.666666666666664}, {'x': 50.75, 'y': 52.22222222222222}, {'x': 50.75, 'y': 52.77777777777778}, {'x': 50.75, 'y': 53.333333333333336}, {'x': 50.75, 'y': 53.888888888888886}, {'x': 50.75, 'y': 54.44444444444444}, {'x': 50.75, 'y': 55.0}]}, {'QR3': [{'x': 50.75, 'y': 51.0}, {'x': 50.75, 'y': 51.55555555555556}, {'x': 50.75, 'y': 52.111111111111114}, {'x': 50.75, 'y': 52.666666666666664}, {'x': 50.75, 'y': 53.22222222222222}, {'x': 50.75, 'y': 53.77777777777778}, {'x': 50.75, 'y': 54.333333333333336}, {'x': 50.75, 'y': 54.888888888888886}, {'x': 50.75, 'y': 55.44444444444444}, {'x': 50.75, 'y': 56.0}]}, {'QR1': [{'x': 52.0, 'y': 50.0}, {'x': 52.0, 'y': 50.55555555555556}, {'x': 52.0, 'y': 51.111111111111114}, {'x': 52.0, 'y': 51.666666666666664}, {'x': 52.0, 'y': 52.22222222222222}, {'x': 52.0, 'y': 52.77777777777778}, {'x': 52.0, 'y': 53.333333333333336}, {'x': 52.0, 'y': 53.888888888888886}, {'x': 52.0, 'y': 54.44444444444444}, {'x': 52.0, 'y': 55.0}]}, {'QR3': [{'x': 52.0, 'y': 51.0}, {'x': 52.0, 'y': 51.55555555555556}, {'x': 52.0, 'y': 52.111111111111114}, {'x': 52.0, 'y': 52.666666666666664}, {'x': 52.0, 'y': 53.22222222222222}, {'x': 52.0, 'y': 53.77777777777778}, {'x': 52.0, 'y': 54.333333333333336}, {'x': 52.0, 'y': 54.888888888888886}, {'x': 52.0, 'y': 55.44444444444444}, {'x': 52.0, 'y': 56.0}]}, {'air': [{'x': 49, 'y': 52}]}]\n"
     ]
    }
   ],
   "source": [
    "sample_positions = {'QR1': [], 'QR3': [], 'air': []}\n",
    "\n",
    "sample_scan_list = []\n",
    "\n",
    "for rel_x_pos in np.linspace(0, 5, 5):\n",
    "    \n",
    "    sample_positions['QR1'] = []\n",
    "    sample_positions['QR3'] = []\n",
    "    \n",
    "    for rel_y_pos in np.linspace(0, 5, 10):\n",
    "        sample_positions['QR1'].append({'x': rel_x_pos + sample_global_offsets['QR1']['x'], 'y': rel_y_pos + sample_global_offsets['QR1']['y']})\n",
    "        sample_positions['QR3'].append({'x': rel_x_pos + sample_global_offsets['QR3']['x'], 'y': rel_y_pos + + sample_global_offsets['QR3']['y']})\n",
    "        \n",
    "    sample_scan_list.append( {'QR1': sample_positions['QR1']})\n",
    "    sample_scan_list.append( {'QR3': sample_positions['QR3']})\n",
    "    \n",
    "\n",
    "sample_positions['air'].append({'x': 0 + sample_global_offsets['air']['x'], 'y': 0 + sample_global_offsets['air']['y']})\n",
    "\n",
    "sample_scan_list.append( {'air': sample_positions['air']})\n",
    "\n",
    "print(sample_scan_list)"
   ]
  },
  {
   "cell_type": "markdown",
   "metadata": {},
   "source": [
    "Take control of SPEC"
   ]
  },
  {
   "cell_type": "code",
   "execution_count": 17,
   "metadata": {},
   "outputs": [
    {
     "name": "stdout",
     "output_type": "stream",
     "text": [
      "{'help': 'Get the current plot. Not sure what this actually is', 'data': 'client in control.'}\n"
     ]
    }
   ],
   "source": [
    "r = requests.get(bServer + \"get_remote_control\")\n",
    "print(r.json())"
   ]
  },
  {
   "cell_type": "markdown",
   "metadata": {},
   "source": [
    "## Ok. Lets do the actual scanning"
   ]
  },
  {
   "cell_type": "code",
   "execution_count": 81,
   "metadata": {},
   "outputs": [
    {
     "name": "stdout",
     "output_type": "stream",
     "text": [
      "RE ENABLE CAM REFRESH checking!!!!!\n",
      "Creating new SPEC file: TESTforRossinsitu_C5andC2_1_i0_loop0_QR1\n",
      "QR1 pos 0 (47.0,50.0): move took 0.7989399433135986s\n",
      "QR1 pos 1 (47.0,50.55555555555556): move took 0.1601855754852295s\n",
      "QR1 pos 2 (47.0,51.111111111111114): move took 0.16075992584228516s\n",
      "QR1 pos 3 (47.0,51.666666666666664): move took 0.15999054908752441s\n",
      "QR1 pos 4 (47.0,52.22222222222222): move took 0.15042471885681152s\n",
      "QR1 pos 5 (47.0,52.77777777777778): move took 0.15639138221740723s\n",
      "QR1 pos 6 (47.0,53.333333333333336): move took 0.13997411727905273s\n",
      "QR1 pos 7 (47.0,53.888888888888886): move took 0.15023541450500488s\n",
      "QR1 pos 8 (47.0,54.44444444444444): move took 0.14997339248657227s\n",
      "QR1 pos 9 (47.0,55.0): move took 0.1504535675048828s\n",
      "Creating new SPEC file: TESTforRossinsitu_C5andC2_1_i1_loop0_QR3\n",
      "QR3 pos 0 (47.0,51.0): move took 0.6047673225402832s\n",
      "QR3 pos 1 (47.0,51.55555555555556): move took 0.16000652313232422s\n",
      "QR3 pos 2 (47.0,52.111111111111114): move took 0.16000795364379883s\n",
      "QR3 pos 3 (47.0,52.666666666666664): move took 0.14999079704284668s\n",
      "QR3 pos 4 (47.0,53.22222222222222): move took 0.14999055862426758s\n",
      "QR3 pos 5 (47.0,53.77777777777778): move took 0.1500086784362793s\n",
      "QR3 pos 6 (47.0,54.333333333333336): move took 0.16000604629516602s\n",
      "QR3 pos 7 (47.0,54.888888888888886): move took 0.1500072479248047s\n",
      "QR3 pos 8 (47.0,55.44444444444444): move took 0.1499924659729004s\n",
      "QR3 pos 9 (47.0,56.0): move took 0.15000700950622559s\n",
      "Creating new SPEC file: TESTforRossinsitu_C5andC2_1_i2_loop0_QR1\n",
      "QR1 pos 0 (48.25,50.0): move took 1.18902587890625s\n",
      "QR1 pos 1 (48.25,50.55555555555556): move took 0.1500093936920166s\n",
      "QR1 pos 2 (48.25,51.111111111111114): move took 0.1512153148651123s\n",
      "QR1 pos 3 (48.25,51.666666666666664): move took 0.15022802352905273s\n",
      "QR1 pos 4 (48.25,52.22222222222222): move took 0.1601872444152832s\n",
      "QR1 pos 5 (48.25,52.77777777777778): move took 0.1492774486541748s\n",
      "QR1 pos 6 (48.25,53.333333333333336): move took 0.15131926536560059s\n",
      "QR1 pos 7 (48.25,53.888888888888886): move took 0.15999174118041992s\n",
      "QR1 pos 8 (48.25,54.44444444444444): move took 0.1492016315460205s\n",
      "QR1 pos 9 (48.25,55.0): move took 0.15999078750610352s\n",
      "Creating new SPEC file: TESTforRossinsitu_C5andC2_1_i3_loop0_QR3\n",
      "QR3 pos 0 (48.25,51.0): move took 0.6091582775115967s\n",
      "QR3 pos 1 (48.25,51.55555555555556): move took 0.14998912811279297s\n",
      "QR3 pos 2 (48.25,52.111111111111114): move took 0.15209078788757324s\n",
      "QR3 pos 3 (48.25,52.666666666666664): move took 0.14999079704284668s\n",
      "QR3 pos 4 (48.25,53.22222222222222): move took 0.14999032020568848s\n",
      "QR3 pos 5 (48.25,53.77777777777778): move took 0.1499929428100586s\n",
      "QR3 pos 6 (48.25,54.333333333333336): move took 0.1540839672088623s\n",
      "QR3 pos 7 (48.25,54.888888888888886): move took 0.14997291564941406s\n",
      "QR3 pos 8 (48.25,55.44444444444444): move took 0.159989595413208s\n",
      "QR3 pos 9 (48.25,56.0): move took 0.15000653266906738s\n",
      "Creating new SPEC file: TESTforRossinsitu_C5andC2_1_i4_loop0_QR1\n",
      "QR1 pos 0 (49.5,50.0): move took 1.2140307426452637s\n",
      "QR1 pos 1 (49.5,50.55555555555556): move took 0.14999127388000488s\n",
      "QR1 pos 2 (49.5,51.111111111111114): move took 0.15869665145874023s\n",
      "QR1 pos 3 (49.5,51.666666666666664): move took 0.15315008163452148s\n",
      "QR1 pos 4 (49.5,52.22222222222222): move took 0.1500086784362793s\n",
      "QR1 pos 5 (49.5,52.77777777777778): move took 0.15123629570007324s\n",
      "QR1 pos 6 (49.5,53.333333333333336): move took 0.12999343872070312s\n",
      "QR1 pos 7 (49.5,53.888888888888886): move took 0.15825128555297852s\n",
      "QR1 pos 8 (49.5,54.44444444444444): move took 0.1299905776977539s\n",
      "QR1 pos 9 (49.5,55.0): move took 0.15713000297546387s\n",
      "Creating new SPEC file: TESTforRossinsitu_C5andC2_1_i5_loop0_QR3\n",
      "QR3 pos 0 (49.5,51.0): move took 0.5912048816680908s\n",
      "QR3 pos 1 (49.5,51.55555555555556): move took 0.15169954299926758s\n",
      "QR3 pos 2 (49.5,52.111111111111114): move took 0.16000652313232422s\n",
      "QR3 pos 3 (49.5,52.666666666666664): move took 0.14000749588012695s\n",
      "QR3 pos 4 (49.5,53.22222222222222): move took 0.15000700950622559s\n",
      "QR3 pos 5 (49.5,53.77777777777778): move took 0.13997507095336914s\n",
      "QR3 pos 6 (49.5,54.333333333333336): move took 0.1500077247619629s\n",
      "QR3 pos 7 (49.5,54.888888888888886): move took 0.15177512168884277s\n",
      "QR3 pos 8 (49.5,55.44444444444444): move took 0.150007963180542s\n",
      "QR3 pos 9 (49.5,56.0): move took 0.14997482299804688s\n",
      "Creating new SPEC file: TESTforRossinsitu_C5andC2_1_i6_loop0_QR1\n",
      "QR1 pos 0 (50.75,50.0): move took 1.214709758758545s\n",
      "QR1 pos 1 (50.75,50.55555555555556): move took 0.14619827270507812s\n",
      "QR1 pos 2 (50.75,51.111111111111114): move took 0.15117573738098145s\n",
      "QR1 pos 3 (50.75,51.666666666666664): move took 0.14999079704284668s\n",
      "QR1 pos 4 (50.75,52.22222222222222): move took 0.1500074863433838s\n",
      "QR1 pos 5 (50.75,52.77777777777778): move took 0.15127944946289062s\n",
      "QR1 pos 6 (50.75,53.333333333333336): move took 0.150007963180542s\n",
      "QR1 pos 7 (50.75,53.888888888888886): move took 0.1592576503753662s\n",
      "QR1 pos 8 (50.75,54.44444444444444): move took 0.16116881370544434s\n",
      "QR1 pos 9 (50.75,55.0): move took 0.13997554779052734s\n",
      "Creating new SPEC file: TESTforRossinsitu_C5andC2_1_i7_loop0_QR3\n",
      "QR3 pos 0 (50.75,51.0): move took 0.5910565853118896s\n",
      "QR3 pos 1 (50.75,51.55555555555556): move took 0.14999151229858398s\n",
      "QR3 pos 2 (50.75,52.111111111111114): move took 0.13223838806152344s\n",
      "QR3 pos 3 (50.75,52.666666666666664): move took 0.14998912811279297s\n",
      "QR3 pos 4 (50.75,53.22222222222222): move took 0.15126705169677734s\n",
      "QR3 pos 5 (50.75,53.77777777777778): move took 0.15491199493408203s\n",
      "QR3 pos 6 (50.75,54.333333333333336): move took 0.15677976608276367s\n",
      "QR3 pos 7 (50.75,54.888888888888886): move took 0.15005731582641602s\n"
     ]
    },
    {
     "ename": "KeyboardInterrupt",
     "evalue": "",
     "output_type": "error",
     "traceback": [
      "\u001b[1;31m---------------------------------------------------------------------------\u001b[0m",
      "\u001b[1;31mTypeError\u001b[0m                                 Traceback (most recent call last)",
      "\u001b[1;32mC:\\ProgramData\\Anaconda3\\lib\\site-packages\\urllib3\\connectionpool.py\u001b[0m in \u001b[0;36m_make_request\u001b[1;34m(self, conn, method, url, timeout, chunked, **httplib_request_kw)\u001b[0m\n\u001b[0;32m    379\u001b[0m             \u001b[1;32mtry\u001b[0m\u001b[1;33m:\u001b[0m  \u001b[1;31m# Python 2.7, use buffering of HTTP responses\u001b[0m\u001b[1;33m\u001b[0m\u001b[0m\n\u001b[1;32m--> 380\u001b[1;33m                 \u001b[0mhttplib_response\u001b[0m \u001b[1;33m=\u001b[0m \u001b[0mconn\u001b[0m\u001b[1;33m.\u001b[0m\u001b[0mgetresponse\u001b[0m\u001b[1;33m(\u001b[0m\u001b[0mbuffering\u001b[0m\u001b[1;33m=\u001b[0m\u001b[1;32mTrue\u001b[0m\u001b[1;33m)\u001b[0m\u001b[1;33m\u001b[0m\u001b[0m\n\u001b[0m\u001b[0;32m    381\u001b[0m             \u001b[1;32mexcept\u001b[0m \u001b[0mTypeError\u001b[0m\u001b[1;33m:\u001b[0m  \u001b[1;31m# Python 2.6 and older, Python 3\u001b[0m\u001b[1;33m\u001b[0m\u001b[0m\n",
      "\u001b[1;31mTypeError\u001b[0m: getresponse() got an unexpected keyword argument 'buffering'",
      "\nDuring handling of the above exception, another exception occurred:\n",
      "\u001b[1;31mKeyboardInterrupt\u001b[0m                         Traceback (most recent call last)",
      "\u001b[1;32m<ipython-input-81-265bb4c03862>\u001b[0m in \u001b[0;36m<module>\u001b[1;34m()\u001b[0m\n\u001b[0;32m     64\u001b[0m                 \u001b[1;31m#Take data\u001b[0m\u001b[1;33m\u001b[0m\u001b[1;33m\u001b[0m\u001b[0m\n\u001b[0;32m     65\u001b[0m                 \u001b[0mf_name\u001b[0m \u001b[1;33m=\u001b[0m \u001b[1;34m\"{}_{}_p{}_sc{}\"\u001b[0m\u001b[1;33m.\u001b[0m\u001b[0mformat\u001b[0m\u001b[1;33m(\u001b[0m\u001b[0mscan_base_name\u001b[0m\u001b[1;33m,\u001b[0m \u001b[0msample_name\u001b[0m\u001b[1;33m,\u001b[0m \u001b[0mpos_ctr\u001b[0m\u001b[1;33m,\u001b[0m \u001b[0mscan_ctr\u001b[0m\u001b[1;33m)\u001b[0m\u001b[1;33m\u001b[0m\u001b[0m\n\u001b[1;32m---> 66\u001b[1;33m                 \u001b[0mtake_pilatus_image\u001b[0m\u001b[1;33m(\u001b[0m\u001b[0mexposure_time\u001b[0m\u001b[1;33m)\u001b[0m\u001b[1;33m\u001b[0m\u001b[0m\n\u001b[0m\u001b[0;32m     67\u001b[0m \u001b[1;33m\u001b[0m\u001b[0m\n\u001b[0;32m     68\u001b[0m \u001b[1;33m\u001b[0m\u001b[0m\n",
      "\u001b[1;32m<ipython-input-44-3569605428d5>\u001b[0m in \u001b[0;36mtake_pilatus_image\u001b[1;34m(exp_time, move_image_to)\u001b[0m\n\u001b[0;32m     46\u001b[0m     \u001b[0mr\u001b[0m \u001b[1;33m=\u001b[0m \u001b[0mrequests\u001b[0m\u001b[1;33m.\u001b[0m\u001b[0mget\u001b[0m\u001b[1;33m(\u001b[0m\u001b[0mbServer\u001b[0m \u001b[1;33m+\u001b[0m \u001b[1;34m\"execute_command\"\u001b[0m\u001b[1;33m,\u001b[0m \u001b[0mparams\u001b[0m\u001b[1;33m=\u001b[0m\u001b[0mpayload\u001b[0m\u001b[1;33m)\u001b[0m\u001b[1;33m\u001b[0m\u001b[0m\n\u001b[0;32m     47\u001b[0m \u001b[1;33m\u001b[0m\u001b[0m\n\u001b[1;32m---> 48\u001b[1;33m     \u001b[0mwait_until_SPECfinished\u001b[0m\u001b[1;33m(\u001b[0m\u001b[1;33m)\u001b[0m\u001b[1;33m\u001b[0m\u001b[0m\n\u001b[0m\u001b[0;32m     49\u001b[0m \u001b[1;33m\u001b[0m\u001b[0m\n\u001b[0;32m     50\u001b[0m     \u001b[0mcounters\u001b[0m \u001b[1;33m=\u001b[0m \u001b[0mread_counters\u001b[0m\u001b[1;33m(\u001b[0m\u001b[1;33m)\u001b[0m\u001b[1;33m\u001b[0m\u001b[0m\n",
      "\u001b[1;32m<ipython-input-44-3569605428d5>\u001b[0m in \u001b[0;36mwait_until_SPECfinished\u001b[1;34m()\u001b[0m\n\u001b[0;32m     90\u001b[0m     \u001b[0mt0\u001b[0m \u001b[1;33m=\u001b[0m \u001b[0mtime\u001b[0m\u001b[1;33m.\u001b[0m\u001b[0mtime\u001b[0m\u001b[1;33m(\u001b[0m\u001b[1;33m)\u001b[0m\u001b[1;33m\u001b[0m\u001b[0m\n\u001b[0;32m     91\u001b[0m     \u001b[1;32mwhile\u001b[0m \u001b[1;32mTrue\u001b[0m\u001b[1;33m:\u001b[0m\u001b[1;33m\u001b[0m\u001b[0m\n\u001b[1;32m---> 92\u001b[1;33m         \u001b[0mr\u001b[0m \u001b[1;33m=\u001b[0m \u001b[0mrequests\u001b[0m\u001b[1;33m.\u001b[0m\u001b[0mget\u001b[0m\u001b[1;33m(\u001b[0m\u001b[0mbServer\u001b[0m \u001b[1;33m+\u001b[0m \u001b[1;34m\"is_busy\"\u001b[0m\u001b[1;33m)\u001b[0m\u001b[1;33m\u001b[0m\u001b[0m\n\u001b[0m\u001b[0;32m     93\u001b[0m         \u001b[0mis_busy\u001b[0m \u001b[1;33m=\u001b[0m \u001b[0mr\u001b[0m\u001b[1;33m.\u001b[0m\u001b[0mjson\u001b[0m\u001b[1;33m(\u001b[0m\u001b[1;33m)\u001b[0m\u001b[1;33m[\u001b[0m\u001b[1;34m'data'\u001b[0m\u001b[1;33m]\u001b[0m\u001b[1;33m\u001b[0m\u001b[0m\n\u001b[0;32m     94\u001b[0m \u001b[1;33m\u001b[0m\u001b[0m\n",
      "\u001b[1;32mC:\\ProgramData\\Anaconda3\\lib\\site-packages\\requests\\api.py\u001b[0m in \u001b[0;36mget\u001b[1;34m(url, params, **kwargs)\u001b[0m\n\u001b[0;32m     70\u001b[0m \u001b[1;33m\u001b[0m\u001b[0m\n\u001b[0;32m     71\u001b[0m     \u001b[0mkwargs\u001b[0m\u001b[1;33m.\u001b[0m\u001b[0msetdefault\u001b[0m\u001b[1;33m(\u001b[0m\u001b[1;34m'allow_redirects'\u001b[0m\u001b[1;33m,\u001b[0m \u001b[1;32mTrue\u001b[0m\u001b[1;33m)\u001b[0m\u001b[1;33m\u001b[0m\u001b[0m\n\u001b[1;32m---> 72\u001b[1;33m     \u001b[1;32mreturn\u001b[0m \u001b[0mrequest\u001b[0m\u001b[1;33m(\u001b[0m\u001b[1;34m'get'\u001b[0m\u001b[1;33m,\u001b[0m \u001b[0murl\u001b[0m\u001b[1;33m,\u001b[0m \u001b[0mparams\u001b[0m\u001b[1;33m=\u001b[0m\u001b[0mparams\u001b[0m\u001b[1;33m,\u001b[0m \u001b[1;33m**\u001b[0m\u001b[0mkwargs\u001b[0m\u001b[1;33m)\u001b[0m\u001b[1;33m\u001b[0m\u001b[0m\n\u001b[0m\u001b[0;32m     73\u001b[0m \u001b[1;33m\u001b[0m\u001b[0m\n\u001b[0;32m     74\u001b[0m \u001b[1;33m\u001b[0m\u001b[0m\n",
      "\u001b[1;32mC:\\ProgramData\\Anaconda3\\lib\\site-packages\\requests\\api.py\u001b[0m in \u001b[0;36mrequest\u001b[1;34m(method, url, **kwargs)\u001b[0m\n\u001b[0;32m     56\u001b[0m     \u001b[1;31m# cases, and look like a memory leak in others.\u001b[0m\u001b[1;33m\u001b[0m\u001b[1;33m\u001b[0m\u001b[0m\n\u001b[0;32m     57\u001b[0m     \u001b[1;32mwith\u001b[0m \u001b[0msessions\u001b[0m\u001b[1;33m.\u001b[0m\u001b[0mSession\u001b[0m\u001b[1;33m(\u001b[0m\u001b[1;33m)\u001b[0m \u001b[1;32mas\u001b[0m \u001b[0msession\u001b[0m\u001b[1;33m:\u001b[0m\u001b[1;33m\u001b[0m\u001b[0m\n\u001b[1;32m---> 58\u001b[1;33m         \u001b[1;32mreturn\u001b[0m \u001b[0msession\u001b[0m\u001b[1;33m.\u001b[0m\u001b[0mrequest\u001b[0m\u001b[1;33m(\u001b[0m\u001b[0mmethod\u001b[0m\u001b[1;33m=\u001b[0m\u001b[0mmethod\u001b[0m\u001b[1;33m,\u001b[0m \u001b[0murl\u001b[0m\u001b[1;33m=\u001b[0m\u001b[0murl\u001b[0m\u001b[1;33m,\u001b[0m \u001b[1;33m**\u001b[0m\u001b[0mkwargs\u001b[0m\u001b[1;33m)\u001b[0m\u001b[1;33m\u001b[0m\u001b[0m\n\u001b[0m\u001b[0;32m     59\u001b[0m \u001b[1;33m\u001b[0m\u001b[0m\n\u001b[0;32m     60\u001b[0m \u001b[1;33m\u001b[0m\u001b[0m\n",
      "\u001b[1;32mC:\\ProgramData\\Anaconda3\\lib\\site-packages\\requests\\sessions.py\u001b[0m in \u001b[0;36mrequest\u001b[1;34m(self, method, url, params, data, headers, cookies, files, auth, timeout, allow_redirects, proxies, hooks, stream, verify, cert, json)\u001b[0m\n\u001b[0;32m    506\u001b[0m         }\n\u001b[0;32m    507\u001b[0m         \u001b[0msend_kwargs\u001b[0m\u001b[1;33m.\u001b[0m\u001b[0mupdate\u001b[0m\u001b[1;33m(\u001b[0m\u001b[0msettings\u001b[0m\u001b[1;33m)\u001b[0m\u001b[1;33m\u001b[0m\u001b[0m\n\u001b[1;32m--> 508\u001b[1;33m         \u001b[0mresp\u001b[0m \u001b[1;33m=\u001b[0m \u001b[0mself\u001b[0m\u001b[1;33m.\u001b[0m\u001b[0msend\u001b[0m\u001b[1;33m(\u001b[0m\u001b[0mprep\u001b[0m\u001b[1;33m,\u001b[0m \u001b[1;33m**\u001b[0m\u001b[0msend_kwargs\u001b[0m\u001b[1;33m)\u001b[0m\u001b[1;33m\u001b[0m\u001b[0m\n\u001b[0m\u001b[0;32m    509\u001b[0m \u001b[1;33m\u001b[0m\u001b[0m\n\u001b[0;32m    510\u001b[0m         \u001b[1;32mreturn\u001b[0m \u001b[0mresp\u001b[0m\u001b[1;33m\u001b[0m\u001b[0m\n",
      "\u001b[1;32mC:\\ProgramData\\Anaconda3\\lib\\site-packages\\requests\\sessions.py\u001b[0m in \u001b[0;36msend\u001b[1;34m(self, request, **kwargs)\u001b[0m\n\u001b[0;32m    616\u001b[0m \u001b[1;33m\u001b[0m\u001b[0m\n\u001b[0;32m    617\u001b[0m         \u001b[1;31m# Send the request\u001b[0m\u001b[1;33m\u001b[0m\u001b[1;33m\u001b[0m\u001b[0m\n\u001b[1;32m--> 618\u001b[1;33m         \u001b[0mr\u001b[0m \u001b[1;33m=\u001b[0m \u001b[0madapter\u001b[0m\u001b[1;33m.\u001b[0m\u001b[0msend\u001b[0m\u001b[1;33m(\u001b[0m\u001b[0mrequest\u001b[0m\u001b[1;33m,\u001b[0m \u001b[1;33m**\u001b[0m\u001b[0mkwargs\u001b[0m\u001b[1;33m)\u001b[0m\u001b[1;33m\u001b[0m\u001b[0m\n\u001b[0m\u001b[0;32m    619\u001b[0m \u001b[1;33m\u001b[0m\u001b[0m\n\u001b[0;32m    620\u001b[0m         \u001b[1;31m# Total elapsed time of the request (approximately)\u001b[0m\u001b[1;33m\u001b[0m\u001b[1;33m\u001b[0m\u001b[0m\n",
      "\u001b[1;32mC:\\ProgramData\\Anaconda3\\lib\\site-packages\\requests\\adapters.py\u001b[0m in \u001b[0;36msend\u001b[1;34m(self, request, stream, timeout, verify, cert, proxies)\u001b[0m\n\u001b[0;32m    438\u001b[0m                     \u001b[0mdecode_content\u001b[0m\u001b[1;33m=\u001b[0m\u001b[1;32mFalse\u001b[0m\u001b[1;33m,\u001b[0m\u001b[1;33m\u001b[0m\u001b[0m\n\u001b[0;32m    439\u001b[0m                     \u001b[0mretries\u001b[0m\u001b[1;33m=\u001b[0m\u001b[0mself\u001b[0m\u001b[1;33m.\u001b[0m\u001b[0mmax_retries\u001b[0m\u001b[1;33m,\u001b[0m\u001b[1;33m\u001b[0m\u001b[0m\n\u001b[1;32m--> 440\u001b[1;33m                     \u001b[0mtimeout\u001b[0m\u001b[1;33m=\u001b[0m\u001b[0mtimeout\u001b[0m\u001b[1;33m\u001b[0m\u001b[0m\n\u001b[0m\u001b[0;32m    441\u001b[0m                 )\n\u001b[0;32m    442\u001b[0m \u001b[1;33m\u001b[0m\u001b[0m\n",
      "\u001b[1;32mC:\\ProgramData\\Anaconda3\\lib\\site-packages\\urllib3\\connectionpool.py\u001b[0m in \u001b[0;36murlopen\u001b[1;34m(self, method, url, body, headers, retries, redirect, assert_same_host, timeout, pool_timeout, release_conn, chunked, body_pos, **response_kw)\u001b[0m\n\u001b[0;32m    599\u001b[0m                                                   \u001b[0mtimeout\u001b[0m\u001b[1;33m=\u001b[0m\u001b[0mtimeout_obj\u001b[0m\u001b[1;33m,\u001b[0m\u001b[1;33m\u001b[0m\u001b[0m\n\u001b[0;32m    600\u001b[0m                                                   \u001b[0mbody\u001b[0m\u001b[1;33m=\u001b[0m\u001b[0mbody\u001b[0m\u001b[1;33m,\u001b[0m \u001b[0mheaders\u001b[0m\u001b[1;33m=\u001b[0m\u001b[0mheaders\u001b[0m\u001b[1;33m,\u001b[0m\u001b[1;33m\u001b[0m\u001b[0m\n\u001b[1;32m--> 601\u001b[1;33m                                                   chunked=chunked)\n\u001b[0m\u001b[0;32m    602\u001b[0m \u001b[1;33m\u001b[0m\u001b[0m\n\u001b[0;32m    603\u001b[0m             \u001b[1;31m# If we're going to release the connection in ``finally:``, then\u001b[0m\u001b[1;33m\u001b[0m\u001b[1;33m\u001b[0m\u001b[0m\n",
      "\u001b[1;32mC:\\ProgramData\\Anaconda3\\lib\\site-packages\\urllib3\\connectionpool.py\u001b[0m in \u001b[0;36m_make_request\u001b[1;34m(self, conn, method, url, timeout, chunked, **httplib_request_kw)\u001b[0m\n\u001b[0;32m    381\u001b[0m             \u001b[1;32mexcept\u001b[0m \u001b[0mTypeError\u001b[0m\u001b[1;33m:\u001b[0m  \u001b[1;31m# Python 2.6 and older, Python 3\u001b[0m\u001b[1;33m\u001b[0m\u001b[0m\n\u001b[0;32m    382\u001b[0m                 \u001b[1;32mtry\u001b[0m\u001b[1;33m:\u001b[0m\u001b[1;33m\u001b[0m\u001b[0m\n\u001b[1;32m--> 383\u001b[1;33m                     \u001b[0mhttplib_response\u001b[0m \u001b[1;33m=\u001b[0m \u001b[0mconn\u001b[0m\u001b[1;33m.\u001b[0m\u001b[0mgetresponse\u001b[0m\u001b[1;33m(\u001b[0m\u001b[1;33m)\u001b[0m\u001b[1;33m\u001b[0m\u001b[0m\n\u001b[0m\u001b[0;32m    384\u001b[0m                 \u001b[1;32mexcept\u001b[0m \u001b[0mException\u001b[0m \u001b[1;32mas\u001b[0m \u001b[0me\u001b[0m\u001b[1;33m:\u001b[0m\u001b[1;33m\u001b[0m\u001b[0m\n\u001b[0;32m    385\u001b[0m                     \u001b[1;31m# Remove the TypeError from the exception chain in Python 3;\u001b[0m\u001b[1;33m\u001b[0m\u001b[1;33m\u001b[0m\u001b[0m\n",
      "\u001b[1;32mC:\\ProgramData\\Anaconda3\\lib\\http\\client.py\u001b[0m in \u001b[0;36mgetresponse\u001b[1;34m(self)\u001b[0m\n\u001b[0;32m   1329\u001b[0m         \u001b[1;32mtry\u001b[0m\u001b[1;33m:\u001b[0m\u001b[1;33m\u001b[0m\u001b[0m\n\u001b[0;32m   1330\u001b[0m             \u001b[1;32mtry\u001b[0m\u001b[1;33m:\u001b[0m\u001b[1;33m\u001b[0m\u001b[0m\n\u001b[1;32m-> 1331\u001b[1;33m                 \u001b[0mresponse\u001b[0m\u001b[1;33m.\u001b[0m\u001b[0mbegin\u001b[0m\u001b[1;33m(\u001b[0m\u001b[1;33m)\u001b[0m\u001b[1;33m\u001b[0m\u001b[0m\n\u001b[0m\u001b[0;32m   1332\u001b[0m             \u001b[1;32mexcept\u001b[0m \u001b[0mConnectionError\u001b[0m\u001b[1;33m:\u001b[0m\u001b[1;33m\u001b[0m\u001b[0m\n\u001b[0;32m   1333\u001b[0m                 \u001b[0mself\u001b[0m\u001b[1;33m.\u001b[0m\u001b[0mclose\u001b[0m\u001b[1;33m(\u001b[0m\u001b[1;33m)\u001b[0m\u001b[1;33m\u001b[0m\u001b[0m\n",
      "\u001b[1;32mC:\\ProgramData\\Anaconda3\\lib\\http\\client.py\u001b[0m in \u001b[0;36mbegin\u001b[1;34m(self)\u001b[0m\n\u001b[0;32m    295\u001b[0m         \u001b[1;31m# read until we get a non-100 response\u001b[0m\u001b[1;33m\u001b[0m\u001b[1;33m\u001b[0m\u001b[0m\n\u001b[0;32m    296\u001b[0m         \u001b[1;32mwhile\u001b[0m \u001b[1;32mTrue\u001b[0m\u001b[1;33m:\u001b[0m\u001b[1;33m\u001b[0m\u001b[0m\n\u001b[1;32m--> 297\u001b[1;33m             \u001b[0mversion\u001b[0m\u001b[1;33m,\u001b[0m \u001b[0mstatus\u001b[0m\u001b[1;33m,\u001b[0m \u001b[0mreason\u001b[0m \u001b[1;33m=\u001b[0m \u001b[0mself\u001b[0m\u001b[1;33m.\u001b[0m\u001b[0m_read_status\u001b[0m\u001b[1;33m(\u001b[0m\u001b[1;33m)\u001b[0m\u001b[1;33m\u001b[0m\u001b[0m\n\u001b[0m\u001b[0;32m    298\u001b[0m             \u001b[1;32mif\u001b[0m \u001b[0mstatus\u001b[0m \u001b[1;33m!=\u001b[0m \u001b[0mCONTINUE\u001b[0m\u001b[1;33m:\u001b[0m\u001b[1;33m\u001b[0m\u001b[0m\n\u001b[0;32m    299\u001b[0m                 \u001b[1;32mbreak\u001b[0m\u001b[1;33m\u001b[0m\u001b[0m\n",
      "\u001b[1;32mC:\\ProgramData\\Anaconda3\\lib\\http\\client.py\u001b[0m in \u001b[0;36m_read_status\u001b[1;34m(self)\u001b[0m\n\u001b[0;32m    256\u001b[0m \u001b[1;33m\u001b[0m\u001b[0m\n\u001b[0;32m    257\u001b[0m     \u001b[1;32mdef\u001b[0m \u001b[0m_read_status\u001b[0m\u001b[1;33m(\u001b[0m\u001b[0mself\u001b[0m\u001b[1;33m)\u001b[0m\u001b[1;33m:\u001b[0m\u001b[1;33m\u001b[0m\u001b[0m\n\u001b[1;32m--> 258\u001b[1;33m         \u001b[0mline\u001b[0m \u001b[1;33m=\u001b[0m \u001b[0mstr\u001b[0m\u001b[1;33m(\u001b[0m\u001b[0mself\u001b[0m\u001b[1;33m.\u001b[0m\u001b[0mfp\u001b[0m\u001b[1;33m.\u001b[0m\u001b[0mreadline\u001b[0m\u001b[1;33m(\u001b[0m\u001b[0m_MAXLINE\u001b[0m \u001b[1;33m+\u001b[0m \u001b[1;36m1\u001b[0m\u001b[1;33m)\u001b[0m\u001b[1;33m,\u001b[0m \u001b[1;34m\"iso-8859-1\"\u001b[0m\u001b[1;33m)\u001b[0m\u001b[1;33m\u001b[0m\u001b[0m\n\u001b[0m\u001b[0;32m    259\u001b[0m         \u001b[1;32mif\u001b[0m \u001b[0mlen\u001b[0m\u001b[1;33m(\u001b[0m\u001b[0mline\u001b[0m\u001b[1;33m)\u001b[0m \u001b[1;33m>\u001b[0m \u001b[0m_MAXLINE\u001b[0m\u001b[1;33m:\u001b[0m\u001b[1;33m\u001b[0m\u001b[0m\n\u001b[0;32m    260\u001b[0m             \u001b[1;32mraise\u001b[0m \u001b[0mLineTooLong\u001b[0m\u001b[1;33m(\u001b[0m\u001b[1;34m\"status line\"\u001b[0m\u001b[1;33m)\u001b[0m\u001b[1;33m\u001b[0m\u001b[0m\n",
      "\u001b[1;32mC:\\ProgramData\\Anaconda3\\lib\\socket.py\u001b[0m in \u001b[0;36mreadinto\u001b[1;34m(self, b)\u001b[0m\n\u001b[0;32m    584\u001b[0m         \u001b[1;32mwhile\u001b[0m \u001b[1;32mTrue\u001b[0m\u001b[1;33m:\u001b[0m\u001b[1;33m\u001b[0m\u001b[0m\n\u001b[0;32m    585\u001b[0m             \u001b[1;32mtry\u001b[0m\u001b[1;33m:\u001b[0m\u001b[1;33m\u001b[0m\u001b[0m\n\u001b[1;32m--> 586\u001b[1;33m                 \u001b[1;32mreturn\u001b[0m \u001b[0mself\u001b[0m\u001b[1;33m.\u001b[0m\u001b[0m_sock\u001b[0m\u001b[1;33m.\u001b[0m\u001b[0mrecv_into\u001b[0m\u001b[1;33m(\u001b[0m\u001b[0mb\u001b[0m\u001b[1;33m)\u001b[0m\u001b[1;33m\u001b[0m\u001b[0m\n\u001b[0m\u001b[0;32m    587\u001b[0m             \u001b[1;32mexcept\u001b[0m \u001b[0mtimeout\u001b[0m\u001b[1;33m:\u001b[0m\u001b[1;33m\u001b[0m\u001b[0m\n\u001b[0;32m    588\u001b[0m                 \u001b[0mself\u001b[0m\u001b[1;33m.\u001b[0m\u001b[0m_timeout_occurred\u001b[0m \u001b[1;33m=\u001b[0m \u001b[1;32mTrue\u001b[0m\u001b[1;33m\u001b[0m\u001b[0m\n",
      "\u001b[1;31mKeyboardInterrupt\u001b[0m: "
     ]
    }
   ],
   "source": [
    "#These previous values are used to prevent unnecessary motor movements in long scans. Set to None in the beginning to force the first move.\n",
    "prev_ROSSindex = None\n",
    "prev_x_pos = None\n",
    "prev_y_pos = None\n",
    "\n",
    "ordering_index = 0\n",
    "do_cam_refresh = False\n",
    "for scan_ctr in range(20000): #Set number scans to something large?\n",
    "    tscan = time.time()\n",
    "    \n",
    "    #Check if we need to do a cam refresh\n",
    "    if do_cam_refresh is True:\n",
    "        if scan_ctr % cam_refresh_freq == 0: \n",
    "            print(\"Doing a cam refresh\")\n",
    "            cam_refresh()\n",
    "    else:\n",
    "        print(\"RE ENABLE CAM REFRESH checking!!!!!\")    \n",
    "    \n",
    "    #Loop through each elemnt in the sample scan_list\n",
    "    for single_scan_list in sample_scan_list:\n",
    "        \n",
    "        #Extract the sample name and the positions over which to scan\n",
    "        for (sample_name, sample_pos_list) in single_scan_list.items():\n",
    "            \n",
    "\n",
    "            #Move to the right position on the ROSS switcher\n",
    "            new_ROSSindex = sample_ROSSindex[sample_name]\n",
    "            if prev_ROSSindex != new_ROSSindex:\n",
    "                move_to_ROSSindex(new_ROSSindex)\n",
    "                prev_ROSSindex = new_ROSSindex\n",
    "\n",
    "            #Make a new SPEC file for each scan\n",
    "            scan_SPECfilename = \"{}_i{}_loop{}_{}\".format(scan_base_name, ordering_index, scan_ctr, sample_name)\n",
    "            ordering_index = ordering_index + 1\n",
    "            print(\"Creating new SPEC file: {}\".format(scan_SPECfilename))\n",
    "            create_SPECnewfile(scan_SPECfilename)\n",
    "\n",
    "            \n",
    "            #Loop through the positions on the sample and take data\n",
    "            pos_ctr = 0\n",
    "            for xy_pos in sample_pos_list:\n",
    "\n",
    "                #Compute the coordinates\n",
    "                x_pos = xy_pos['x']\n",
    "                y_pos = xy_pos['y']\n",
    "\n",
    "                #Move the SPEC motors to the correct positions\n",
    "                tSPECmove = time.time()\n",
    "                \n",
    "                #Check if we actually need to move x\n",
    "                if prev_x_pos != x_pos:\n",
    "                    move_SPECmotor(sample_motors['x'], x_pos)\n",
    "                    prev_x_pos = x_pos\n",
    "\n",
    "                #Check if we actually need to move y\n",
    "                if prev_y_pos != y_pos:\n",
    "                    move_SPECmotor(sample_motors['y'], y_pos)\n",
    "                    prev_y_pos = y_pos\n",
    "\n",
    "                print(\"{} pos {} ({},{}): move took {}s\".format(sample_name, pos_ctr, x_pos, y_pos, time.time() - tSPECmove))\n",
    "\n",
    "\n",
    "\n",
    "                #Take data\n",
    "                f_name = \"{}_{}_p{}_sc{}\".format(scan_base_name, sample_name, pos_ctr, scan_ctr)\n",
    "                take_pilatus_image(exposure_time)\n",
    "\n",
    "                \n",
    "\n",
    "                pos_ctr = pos_ctr + 1 #Increment the position counter\n",
    "\n",
    "    print(\"Scan {} finished in {}s\".format(scan_ctr, time.time() - tscan))\n",
    "    time.sleep(240.0) #wait?\n",
    "\n",
    "\n",
    "            \n",
    "        \n",
    "        \n",
    "        \n",
    "        "
   ]
  },
  {
   "cell_type": "code",
   "execution_count": null,
   "metadata": {},
   "outputs": [],
   "source": []
  },
  {
   "cell_type": "code",
   "execution_count": null,
   "metadata": {},
   "outputs": [],
   "source": []
  },
  {
   "cell_type": "code",
   "execution_count": null,
   "metadata": {},
   "outputs": [],
   "source": []
  },
  {
   "cell_type": "code",
   "execution_count": null,
   "metadata": {},
   "outputs": [],
   "source": []
  },
  {
   "cell_type": "markdown",
   "metadata": {},
   "source": [
    "Release control of SPEC"
   ]
  },
  {
   "cell_type": "code",
   "execution_count": null,
   "metadata": {},
   "outputs": [],
   "source": [
    "r = requests.get(bServer + \"release_remote_control\")\n",
    "print(r.json())"
   ]
  },
  {
   "cell_type": "code",
   "execution_count": null,
   "metadata": {},
   "outputs": [],
   "source": []
  }
 ],
 "metadata": {
  "kernelspec": {
   "display_name": "Python 3",
   "language": "python",
   "name": "python3"
  },
  "language_info": {
   "codemirror_mode": {
    "name": "ipython",
    "version": 3
   },
   "file_extension": ".py",
   "mimetype": "text/x-python",
   "name": "python",
   "nbconvert_exporter": "python",
   "pygments_lexer": "ipython3",
   "version": "3.7.4"
  },
  "toc": {
   "base_numbering": 1,
   "nav_menu": {},
   "number_sections": true,
   "sideBar": true,
   "skip_h1_title": false,
   "title_cell": "Table of Contents",
   "title_sidebar": "Contents",
   "toc_cell": true,
   "toc_position": {},
   "toc_section_display": true,
   "toc_window_display": false
  }
 },
 "nbformat": 4,
 "nbformat_minor": 2
}
