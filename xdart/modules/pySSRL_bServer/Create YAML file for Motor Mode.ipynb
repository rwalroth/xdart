{
 "cells": [
  {
   "cell_type": "code",
   "execution_count": 1,
   "metadata": {},
   "outputs": [],
   "source": [
    "import yaml"
   ]
  },
  {
   "cell_type": "code",
   "execution_count": 20,
   "metadata": {},
   "outputs": [
    {
     "name": "stdout",
     "output_type": "stream",
     "text": [
      "openloop:\n",
      "  helptext: This is the default mode of the motor on startup. It does not use the\n",
      "    encoder or any of the advanced hMT technology\n",
      "  init sequence:\n",
      "    microstep_resolution: 256\n",
      "    position: 0\n",
      "    software_limits: {lower_limit: null, upper_limit: null}\n",
      "\n"
     ]
    }
   ],
   "source": [
    "data = {'openloop': {'init sequence': {\n",
    "                        \n",
    "                        'encoder_enable': 0,\n",
    "                        'position': 0,\n",
    "                        'microstep_resolution': 256,\n",
    "                        'software_limits': {'lower_limit': None, 'upper_limit': None}\n",
    "\n",
    "            \n",
    "            \n",
    "            \n",
    "                        },\n",
    "                     \n",
    "                     'helptext': \"\"\"This is the default mode of the motor on startup. It does not use the encoder or any of the advanced hMT technology\"\"\",\n",
    "                   }\n",
    "    \n",
    "     \n",
    "}\n",
    "  \n",
    "#print(data)\n",
    "print(yaml.dump(data))"
   ]
  },
  {
   "cell_type": "code",
   "execution_count": null,
   "metadata": {},
   "outputs": [],
   "source": []
  },
  {
   "cell_type": "code",
   "execution_count": 4,
   "metadata": {},
   "outputs": [
    {
     "name": "stdout",
     "output_type": "stream",
     "text": [
      "encoder_enable: {Help: \"Enables or disables encoder mode. Once placed in encoder mode,\\\n",
      "    \\ all motion-related variables and commands\\n                                register\\\n",
      "    \\ in encoder counts. The value of P (Position Counter) will update from C2 (Encoder\\\n",
      "    \\ Counter).\\n                                Encoder functions such as stall detection\\\n",
      "    \\ and position mainteneance require that encoder functions be enabled\\n      \\\n",
      "    \\                          (EE=1). Default is disabled\", init_level: 2, many_read: false,\n",
      "  motor register: EE, persist: true, scale_function: null, set_function: custom_set_encoder_enable,\n",
      "  typecast: !!python/name:builtins.bool '', units: null}\n",
      "microstep_resolution: {Help: Default parameters, get_function: custom_get_microstep_resolution,\n",
      "  init_level: 2, many_read: false, motor register: MS, persist: true, set_function: custom_set_microstep_resolution,\n",
      "  typecast: &id001 !!python/name:builtins.int ''}\n",
      "position: {Help: 'Get or set the position counter. Note: this value will depend on\n",
      "    the microstep resolution or if the encoder is enabled.', many_read: true, motor register: P,\n",
      "  typecast: *id001, units: partial_steps}\n",
      "rosetta: {Help: \"This is a 'fake' motor variable that provides the translation from\\\n",
      "    \\ register to steps to dial to user frames. \\n                          I want\\\n",
      "    \\ the interaction to be like any other parameter and I want the values to be serialized\\\n",
      "    \\ like all of the rest. The\\n                          These values are read and\\\n",
      "    \\ written from a special config file. However, since these values are relatively\\\n",
      "    \\ changed, they \\n                          are only read FROM DISK when changed\\\n",
      "    \\ or if the read_value routine is executed with frame_uuid = None. Otherwise,\\\n",
      "    \\ the \\n                          value stored in memory is used\", get_function: custom_get_rosetta,\n",
      "  init_level: 0, many_read: false, motor register: none, persist: true, scale_function: null,\n",
      "  set_function: custom_set_rosetta, units: steps}\n",
      "\n"
     ]
    }
   ],
   "source": [
    "with open('./config/LMD_motor_modes.yaml', 'w') as stream:\n",
    "    yaml.dump(data, stream)    # Write a YAML representation of data to 'document.yaml'.\n",
    "    print(yaml.dump(data))"
   ]
  },
  {
   "cell_type": "code",
   "execution_count": 1,
   "metadata": {},
   "outputs": [
    {
     "ename": "TypeError",
     "evalue": "int() argument must be a string, a bytes-like object or a number, not 'NoneType'",
     "output_type": "error",
     "traceback": [
      "\u001b[1;31m---------------------------------------------------------------------------\u001b[0m",
      "\u001b[1;31mTypeError\u001b[0m                                 Traceback (most recent call last)",
      "\u001b[1;32m<ipython-input-1-3f3b1d3c7325>\u001b[0m in \u001b[0;36m<module>\u001b[1;34m()\u001b[0m\n\u001b[1;32m----> 1\u001b[1;33m \u001b[0mint\u001b[0m\u001b[1;33m(\u001b[0m\u001b[1;32mNone\u001b[0m\u001b[1;33m)\u001b[0m\u001b[1;33m\u001b[0m\u001b[0m\n\u001b[0m",
      "\u001b[1;31mTypeError\u001b[0m: int() argument must be a string, a bytes-like object or a number, not 'NoneType'"
     ]
    }
   ],
   "source": [
    "int(None)"
   ]
  },
  {
   "cell_type": "code",
   "execution_count": null,
   "metadata": {},
   "outputs": [],
   "source": []
  }
 ],
 "metadata": {
  "kernelspec": {
   "display_name": "Python 3",
   "language": "python",
   "name": "python3"
  },
  "language_info": {
   "codemirror_mode": {
    "name": "ipython",
    "version": 3
   },
   "file_extension": ".py",
   "mimetype": "text/x-python",
   "name": "python",
   "nbconvert_exporter": "python",
   "pygments_lexer": "ipython3",
   "version": "3.7.4"
  }
 },
 "nbformat": 4,
 "nbformat_minor": 2
}
